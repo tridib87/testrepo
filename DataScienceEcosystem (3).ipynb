{
 "cells": [
  {
   "cell_type": "markdown",
   "id": "2110a1ac-c423-4954-8890-81bb2ec814c1",
   "metadata": {},
   "source": [
    "# H1: Data Science Tools and Ecosystem"
   ]
  },
  {
   "cell_type": "markdown",
   "id": "f920398e-57e7-494b-8492-16ef57dd4e99",
   "metadata": {
    "tags": []
   },
   "source": [
    "## In this notebook, data science tools and ecosystem are summarised"
   ]
  },
  {
   "cell_type": "markdown",
   "id": "ccc9e006-d63a-49f7-b48f-44ef82d81847",
   "metadata": {},
   "source": [
    "## H2: Some of the popular lanaguages Data Scientists use are\n",
    "1. Java\n",
    "2. R\n",
    "3. C\n",
    "4. Python"
   ]
  },
  {
   "cell_type": "markdown",
   "id": "bc8bae1c-7056-487c-b3d5-62c0579be290",
   "metadata": {},
   "source": [
    "## Some of the commonly used libraries data scientists use are\n",
    "1. Pandas\n",
    "2. Scikit-learn\n",
    "3. Matplotlib\n",
    "4. TensorFlow\n",
    "5. Plotly"
   ]
  },
  {
   "cell_type": "markdown",
   "id": "a55f9d80-fa33-4cc9-ac7d-adc8107ac4ab",
   "metadata": {},
   "source": [
    "## H1: Data Science Tools\n",
    "\n",
    "Sl No | Data Science Tools |\n",
    "------|--------------------|\n",
    "1 | Tableau |\n",
    "2 | Apache Spark|\n",
    "3 | Apache Hadoop|\n"
   ]
  },
  {
   "cell_type": "markdown",
   "id": "e7e68e13-b58c-4536-a323-88a5c4812b5d",
   "metadata": {},
   "source": [
    "## H3: Below are few examples of arithmetic expressions in python \n",
    "\n",
    "2+2*(4+3)"
   ]
  },
  {
   "cell_type": "code",
   "execution_count": 5,
   "id": "609d6789-2c07-427f-835b-2a046e7a12e6",
   "metadata": {
    "tags": []
   },
   "outputs": [
    {
     "data": {
      "text/plain": [
       "17"
      ]
     },
     "execution_count": 5,
     "metadata": {},
     "output_type": "execute_result"
    }
   ],
   "source": [
    "(3*4)+5\n",
    "## Above are few examples of evaluating arithmetic expressions in python"
   ]
  },
  {
   "cell_type": "code",
   "execution_count": 6,
   "id": "e0e2b599-95ed-4c07-b962-cf0be7f76b0f",
   "metadata": {
    "tags": []
   },
   "outputs": [
    {
     "data": {
      "text/plain": [
       "3.3333333333333335"
      ]
     },
     "execution_count": 6,
     "metadata": {},
     "output_type": "execute_result"
    }
   ],
   "source": [
    "## H3: This will convert minutes into hours\n",
    "## This will convert 200 minutes into hours byh dividing by 60\n",
    "200/60"
   ]
  },
  {
   "cell_type": "markdown",
   "id": "4091dc50-7c42-49aa-87ff-c9ee54196316",
   "metadata": {},
   "source": [
    "## Objectives\n",
    "## List Popular languages for Data Science\n",
    "- Java\n",
    "- C\n",
    "- R\n",
    "- C++\n",
    "- C\n",
    "\n"
   ]
  },
  {
   "cell_type": "markdown",
   "id": "e3c05b84-ccaa-4a88-806c-416c98a6c5d8",
   "metadata": {},
   "source": [
    "## H2: AUTHOR\n",
    "       TRIDIB ROY"
   ]
  },
  {
   "cell_type": "code",
   "execution_count": null,
   "id": "9611ebd6-bb8a-4816-919d-b2d9cbd85391",
   "metadata": {},
   "outputs": [],
   "source": []
  }
 ],
 "metadata": {
  "kernelspec": {
   "display_name": "Python",
   "language": "python",
   "name": "conda-env-python-py"
  },
  "language_info": {
   "codemirror_mode": {
    "name": "ipython",
    "version": 3
   },
   "file_extension": ".py",
   "mimetype": "text/x-python",
   "name": "python",
   "nbconvert_exporter": "python",
   "pygments_lexer": "ipython3",
   "version": "3.7.12"
  }
 },
 "nbformat": 4,
 "nbformat_minor": 5
}
